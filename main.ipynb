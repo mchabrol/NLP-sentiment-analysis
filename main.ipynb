{
 "cells": [
  {
   "cell_type": "markdown",
   "metadata": {},
   "source": [
    "# Main"
   ]
  },
  {
   "cell_type": "markdown",
   "metadata": {},
   "source": [
    "This notebook serves as the main entry point to train, evaluate, and compare the performance of different NLP models implemented in separate Python modules."
   ]
  },
  {
   "cell_type": "markdown",
   "metadata": {},
   "source": [
    "## I. Base model : TF-IDF and Naive Bayes"
   ]
  },
  {
   "cell_type": "code",
   "execution_count": 3,
   "metadata": {},
   "outputs": [],
   "source": [
    "import pandas as pd\n",
    "from sklearn.model_selection import train_test_split\n",
    "from TF_IDF import TfidfClassifier"
   ]
  },
  {
   "cell_type": "code",
   "execution_count": 5,
   "metadata": {},
   "outputs": [],
   "source": [
    "df_train = pd.read_csv('aclImdb/df_train.csv')\n",
    "df_test = pd.read_csv('aclImdb/df_test.csv')\n",
    "\n",
    "X = df_train['comment']\n",
    "y = df_train['sentiment']\n",
    "X_train, X_val, y_train, y_val = train_test_split(X, y, test_size=0.2, random_state=42)"
   ]
  },
  {
   "cell_type": "code",
   "execution_count": 7,
   "metadata": {},
   "outputs": [
    {
     "data": {
      "text/plain": [
       "{'max_features': 5000,\n",
       " 'use_idf': True,\n",
       " 'alpha': 1.0,\n",
       " 'train_accuracy': 0.86855,\n",
       " 'val_accuracy': 0.8498}"
      ]
     },
     "execution_count": 7,
     "metadata": {},
     "output_type": "execute_result"
    }
   ],
   "source": [
    "tfidf_classifier = TfidfClassifier(X_train=X_train, X_val=X_val, y_train=y_train, y_val=y_val, \n",
    "                                   train_file_path='aclImdb/df_train.csv', test_file_path='aclImdb/df_test.csv')\n",
    "\n",
    "tfidf_classifier.run_experiments(\n",
    "    max_features_list=[1000, 2000, 5000],\n",
    "    use_idf_list=[True, False],\n",
    "    alpha_list=[0.1, 1.0, 10.0]\n",
    ")\n",
    "\n",
    "tfidf_classifier.get_best_config()"
   ]
  },
  {
   "cell_type": "code",
   "execution_count": 8,
   "metadata": {},
   "outputs": [
    {
     "name": "stdout",
     "output_type": "stream",
     "text": [
      "======== Accuracy on train set for TF-IDF & Naive Bayes ========\n",
      " 0.865\n",
      "======== Accuracy on test set for TF-IDF & Naive Bayes ========\n",
      " 0.84056\n"
     ]
    }
   ],
   "source": [
    "#Evaluate perf on test set\n",
    "train_accuracy, test_accuracy = tfidf_classifier.evaluate_on_test(config = tfidf_classifier.best_config)\n",
    "\n",
    "print(\"======== Accuracy on train set for TF-IDF & Naive Bayes ========\\n\", train_accuracy)\n",
    "print(\"======== Accuracy on test set for TF-IDF & Naive Bayes ========\\n\", test_accuracy)"
   ]
  },
  {
   "cell_type": "markdown",
   "metadata": {},
   "source": [
    "## II. Word2vec and SVC"
   ]
  },
  {
   "cell_type": "code",
   "execution_count": 7,
   "metadata": {},
   "outputs": [],
   "source": [
    "from word2vec import ReviewTokenizer, Word2VecEmbedder, SentimentClassifier\n",
    "from sklearn.svm import LinearSVC"
   ]
  },
  {
   "cell_type": "code",
   "execution_count": null,
   "metadata": {},
   "outputs": [
    {
     "name": "stderr",
     "output_type": "stream",
     "text": [
      "/Library/Frameworks/Python.framework/Versions/3.12/lib/python3.12/site-packages/sklearn/svm/_classes.py:32: FutureWarning: The default value of `dual` will change from `True` to `'auto'` in 1.5. Set the value of `dual` explicitly to suppress the warning.\n",
      "  warnings.warn(\n"
     ]
    },
    {
     "name": "stdout",
     "output_type": "stream",
     "text": [
      "======== Accuracy on val set for Word2vec and SVC ========\n",
      " 0.8782\n"
     ]
    }
   ],
   "source": [
    "df_train = pd.read_csv('aclImdb/df_train.csv')\n",
    "df_test = pd.read_csv('aclImdb/df_test.csv')\n",
    "\n",
    "# tokenisation\n",
    "tokenized_reviews_train = [ReviewTokenizer.tokenize(text) for text in df_train['comment']]\n",
    "\n",
    "# # train embeddings\n",
    "embedder = Word2VecEmbedder()\n",
    "embedder.train(tokenized_reviews_train)\n",
    "X_embeddings = embedder.embed_reviews(tokenized_reviews_train)\n",
    "embedder.save_embeddings(X_embeddings, 'aclImdb/embeddings/X_train_word2vec_embeddings.pkl')\n",
    "\n",
    "# train/val split\n",
    "X_train, X_val, y_train, y_val = train_test_split(\n",
    "    X_embeddings, df_train['sentiment'], test_size=0.2, random_state=42\n",
    ")\n",
    "\n",
    "# train and evaluate classifier\n",
    "clf = SentimentClassifier(classifier=LinearSVC())\n",
    "clf.train(X_train, y_train)\n",
    "clf.evaluate(X_val, y_val)\n",
    "print(\"======== Accuracy on val set for Word2vec and SVC ========\\n\", train_accuracy)"
   ]
  },
  {
   "cell_type": "code",
   "execution_count": 10,
   "metadata": {},
   "outputs": [
    {
     "name": "stderr",
     "output_type": "stream",
     "text": [
      "/Library/Frameworks/Python.framework/Versions/3.12/lib/python3.12/site-packages/sklearn/svm/_classes.py:32: FutureWarning: The default value of `dual` will change from `True` to `'auto'` in 1.5. Set the value of `dual` explicitly to suppress the warning.\n",
      "  warnings.warn(\n"
     ]
    },
    {
     "name": "stdout",
     "output_type": "stream",
     "text": [
      "======== Accuracy on train set for Word2vec and SVC ========\n",
      " 0.8788\n",
      "======== Accuracy on test set for Word2vec and SVC ========\n",
      " 0.86944\n"
     ]
    }
   ],
   "source": [
    "#Check performance on test set \n",
    "clf.train(X_embeddings, df_train['sentiment'])\n",
    "\n",
    "tokenized_reviews_test = [ReviewTokenizer.tokenize(text) for text in df_test['comment']]\n",
    "\n",
    "X_test_embeddings = embedder.embed_reviews(tokenized_reviews_test)\n",
    "test_accuracy, test_report = clf.evaluate(X_test_embeddings, df_test['sentiment'])\n",
    "train_accuracy, train_report = clf.evaluate(X_train, y_train)\n",
    "\n",
    "print(\"======== Accuracy on train set for Word2vec and SVC ========\\n\", train_accuracy)\n",
    "print(\"======== Accuracy on test set for Word2vec and SVC ========\\n\", test_accuracy)"
   ]
  }
 ],
 "metadata": {
  "kernelspec": {
   "display_name": "Python 3",
   "language": "python",
   "name": "python3"
  },
  "language_info": {
   "codemirror_mode": {
    "name": "ipython",
    "version": 3
   },
   "file_extension": ".py",
   "mimetype": "text/x-python",
   "name": "python",
   "nbconvert_exporter": "python",
   "pygments_lexer": "ipython3",
   "version": "3.12.0"
  }
 },
 "nbformat": 4,
 "nbformat_minor": 2
}
