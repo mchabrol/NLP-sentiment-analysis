{
 "cells": [
  {
   "cell_type": "code",
   "execution_count": 15,
   "metadata": {},
   "outputs": [],
   "source": [
    "# basic imports\n",
    "import os\n",
    "import matplotlib.pyplot as plt\n",
    "# display matplotlib graphics in notebook\n",
    "%matplotlib inline \n",
    "import seaborn as sns\n",
    "\n",
    "# disable warnings for libraries\n",
    "import warnings\n",
    "warnings.filterwarnings(\"ignore\")\n",
    "\n",
    "# configure logger\n",
    "import logging\n",
    "logging.basicConfig(format='%(asctime)s %(levelname)s:%(message)s', level=logging.INFO, datefmt='%I:%M:%S')\n",
    "logger = logging.getLogger(__name__)"
   ]
  },
  {
   "cell_type": "code",
   "execution_count": 21,
   "metadata": {},
   "outputs": [
    {
     "name": "stderr",
     "output_type": "stream",
     "text": [
      "06:54:26 INFO:Loading embedding vectors...\n",
      "06:54:26 INFO:Loaded vectors with shape: (89527,)\n",
      "06:54:26 INFO:Loading words...\n",
      "06:54:26 INFO:Loaded 89527 words\n",
      "06:54:26 INFO:Verification complete - sizes match!\n"
     ]
    },
    {
     "name": "stdout",
     "output_type": "stream",
     "text": [
      "\n",
      "Dataset information:\n",
      "Number of words: 89527\n",
      "Embedding dimension: (89527,)\n",
      "\n",
      "First few words and their expected rates [('the', np.float64(0.0490972013402)), ('and', np.float64(0.201363575849)), ('a', np.float64(0.0333946807184)), ('of', np.float64(0.099837669572)), ('to', np.float64(-0.0790210365788))]\n"
     ]
    }
   ],
   "source": [
    "import numpy as np\n",
    "#Expected rate for each word in the vocabulary\n",
    "def load_embeddings():\n",
    "    # Load rates\n",
    "    logger.info(\"Loading embedding vectors...\")\n",
    "    rates= np.genfromtxt('/Users/suzie/Downloads/aclImdb/imdbEr.txt')\n",
    "    logger.info(f\"Loaded vectors with shape: {rates.shape}\")\n",
    "    \n",
    "    # Load associated words\n",
    "    logger.info(\"Loading words...\")\n",
    "    with open('/Users/suzie/Downloads/aclImdb/imdb.vocab', 'r', encoding='utf-8') as f:\n",
    "        words = [line.strip() for line in f.readlines()]\n",
    "    logger.info(f\"Loaded {len(words)} words\")\n",
    "    \n",
    "    # Verify sizes match\n",
    "    if len(words) != rates.shape[0]:\n",
    "        raise ValueError(f\"Mismatch between number of words ({len(words)}) and vectors ({rates.shape[0]})\")\n",
    "    \n",
    "    logger.info(\"Verification complete - sizes match!\")\n",
    "    \n",
    "    return rates, words\n",
    "\n",
    "# Load the data\n",
    "rates, words = load_embeddings()\n",
    "\n",
    "# Display some basic information\n",
    "print(\"\\nDataset information:\")\n",
    "print(f\"Number of words: {len(words)}\")\n",
    "print(f\"Embedding dimension: {rates.shape}\")\n",
    "print(f\"\\nFirst few words and their expected rates {[(word, rate) for (word, rate) in zip(words[:5], rates[:5])]}\")\n"
   ]
  },
  {
   "cell_type": "code",
   "execution_count": 26,
   "metadata": {},
   "outputs": [],
   "source": [
    "import os\n",
    "import pandas as pd\n",
    "\n",
    "def process_movie_reviews(directory_path):\n",
    "    \"\"\"\n",
    "    Traite les fichiers de critiques de films et les combine dans un DataFrame.\n",
    "    \n",
    "    Args:\n",
    "        directory_path (str): Chemin vers le répertoire contenant les fichiers texte\n",
    "        \n",
    "    Returns:\n",
    "        pd.DataFrame: DataFrame contenant les colonnes id, rate, et comment\n",
    "    \"\"\"\n",
    "    # Listes pour stocker les données\n",
    "    movie_ids = []\n",
    "    rates = []\n",
    "    comments = []\n",
    "    \n",
    "    # Parcourir tous les fichiers du répertoire\n",
    "    for filename in os.listdir(directory_path):\n",
    "        if filename.endswith('.txt'):\n",
    "            # Extraire l'id et la note du nom du fichier\n",
    "            parts = filename.split('_')\n",
    "            if len(parts) == 2:\n",
    "                movie_id = int(parts[0])\n",
    "                rate = int(parts[1].split('.')[0])\n",
    "                \n",
    "                # Lire le contenu du fichier (commentaire)\n",
    "                with open(os.path.join(directory_path, filename), 'r', encoding='utf-8') as f:\n",
    "                    comment = f.read().strip()\n",
    "                \n",
    "                # Ajouter les données aux listes\n",
    "                movie_ids.append(movie_id)\n",
    "                rates.append(rate)\n",
    "                comments.append(comment)\n",
    "    \n",
    "    # Créer le DataFrame\n",
    "    df = pd.DataFrame({\n",
    "        'id': movie_ids,\n",
    "        'rate': rates,\n",
    "        'comment': comments\n",
    "    })\n",
    "    \n",
    "    # Trier par id de film\n",
    "    df = df.sort_values('id')\n",
    "    \n",
    "    return df\n",
    "\n",
    "# Exemple d'utilisation\n",
    "pos_df = process_movie_reviews('/Users/suzie/Downloads/aclImdb/train/pos')\n",
    "neg_df = process_movie_reviews('/Users/suzie/Downloads/aclImdb/train/neg')\n",
    "# Ajouter une colonne 'sentiment' pour distinguer les avis positifs et négatifs \n",
    "pos_df['sentiment'] = 1\n",
    "neg_df['sentiment'] = 0\n",
    "# Concaténer les DataFrames positifs et négatifs\n",
    "df = pd.concat([pos_df, neg_df], ignore_index=True)"
   ]
  },
  {
   "cell_type": "code",
   "execution_count": null,
   "metadata": {},
   "outputs": [],
   "source": []
  }
 ],
 "metadata": {
  "kernelspec": {
   "display_name": ".venv",
   "language": "python",
   "name": "python3"
  },
  "language_info": {
   "codemirror_mode": {
    "name": "ipython",
    "version": 3
   },
   "file_extension": ".py",
   "mimetype": "text/x-python",
   "name": "python",
   "nbconvert_exporter": "python",
   "pygments_lexer": "ipython3",
   "version": "3.10.12"
  }
 },
 "nbformat": 4,
 "nbformat_minor": 2
}
