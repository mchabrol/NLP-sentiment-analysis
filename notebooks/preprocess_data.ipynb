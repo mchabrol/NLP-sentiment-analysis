{
 "cells": [
  {
   "cell_type": "code",
   "execution_count": 5,
   "metadata": {},
   "outputs": [],
   "source": [
    "# basic imports\n",
    "import os\n",
    "import re\n",
    "import matplotlib.pyplot as plt\n",
    "# display matplotlib graphics in notebook\n",
    "%matplotlib inline \n",
    "import seaborn as sns\n",
    "import numpy as np\n",
    "import pandas as pd\n",
    "\n",
    "from wordcloud import WordCloud\n",
    "import matplotlib.pyplot as plt\n",
    "\n",
    "\n",
    "# disable warnings for libraries\n",
    "import warnings\n",
    "warnings.filterwarnings(\"ignore\")\n",
    "\n",
    "# configure logger\n",
    "import logging\n",
    "logging.basicConfig(format='%(asctime)s %(levelname)s:%(message)s', level=logging.INFO, datefmt='%I:%M:%S')\n",
    "logger = logging.getLogger(__name__)"
   ]
  },
  {
   "cell_type": "code",
   "execution_count": 13,
   "metadata": {},
   "outputs": [],
   "source": [
    "import sys\n",
    "import os\n",
    "\n",
    "sys.path.append(os.path.abspath(os.path.join(os.getcwd(), \"..\")))\n",
    "base_path = \"..\""
   ]
  },
  {
   "cell_type": "code",
   "execution_count": 6,
   "metadata": {},
   "outputs": [
    {
     "name": "stderr",
     "output_type": "stream",
     "text": [
      "05:39:22 INFO:Loading embedding vectors...\n",
      "05:39:23 INFO:Loaded vectors with shape: (89527,)\n",
      "05:39:23 INFO:Loading words...\n",
      "05:39:23 INFO:Loaded 89527 words\n",
      "05:39:23 INFO:Verification complete - sizes match!\n"
     ]
    },
    {
     "name": "stdout",
     "output_type": "stream",
     "text": [
      "\n",
      "Dataset information:\n",
      "Number of words (vocab): 89527\n",
      "Number of vectors (rates): 89527\n",
      "\n",
      "First few words and their expected rates [('the', np.float64(0.0490972013402)), ('and', np.float64(0.201363575849)), ('a', np.float64(0.0333946807184)), ('of', np.float64(0.099837669572)), ('to', np.float64(-0.0790210365788))]\n"
     ]
    }
   ],
   "source": [
    "#Expected rate for each word in the vocabulary\n",
    "\n",
    "def load_embeddings():\n",
    "    # Load rates\n",
    "    logger.info(\"Loading embedding vectors...\")\n",
    "    rates= np.genfromtxt('aclImdb/imdbEr.txt')\n",
    "    logger.info(f\"Loaded vectors with shape: {rates.shape}\")\n",
    "    \n",
    "    # Load associated words\n",
    "    logger.info(\"Loading words...\")\n",
    "    with open('aclImdb/imdb.vocab', 'r', encoding='utf-8') as f:\n",
    "        words = [line.strip() for line in f.readlines()]\n",
    "    logger.info(f\"Loaded {len(words)} words\")\n",
    "    \n",
    "    if len(words) != rates.shape[0]:\n",
    "        raise ValueError(f\"Mismatch between number of words ({len(words)}) and vectors ({rates.shape[0]})\")\n",
    "    \n",
    "    logger.info(\"Verification complete - sizes match!\")\n",
    "    \n",
    "    return rates, words\n",
    "\n",
    "rates, words = load_embeddings()\n",
    "\n",
    "print(\"\\nDataset information:\")\n",
    "print(f\"Number of words (vocab): {len(words)}\")\n",
    "print(f\"Number of vectors (rates): {rates.shape[0]}\")\n",
    "print(f\"\\nFirst few words and their expected rates {[(word, rate) for (word, rate) in zip(words[:5], rates[:5])]}\")\n"
   ]
  },
  {
   "cell_type": "code",
   "execution_count": 7,
   "metadata": {},
   "outputs": [
    {
     "name": "stdout",
     "output_type": "stream",
     "text": [
      "Nombre de stop words détectés : 63286\n",
      "Le fichier stop_word_rate.txt a été créé avec succès.\n"
     ]
    }
   ],
   "source": [
    "#words with rate < 0.25 will be considered as stop words\n",
    "stopwords = [word for word, rate in zip(words, rates) if np.abs(rate) < 0.7]\n",
    "print(f\"Nombre de stop words détectés : {len(stopwords)}\")\n",
    "\n",
    "#save stop words\n",
    "with open(\"aclImdb/stop_word_rate.txt\", \"w\", encoding=\"utf-8\") as f:\n",
    "    for word in stopwords:\n",
    "        f.write(word + \"\\n\")\n",
    "\n",
    "print(\"Le fichier stop_word_rate.txt a été créé avec succès.\")"
   ]
  },
  {
   "cell_type": "code",
   "execution_count": 9,
   "metadata": {},
   "outputs": [],
   "source": [
    "def clean_review(text):\n",
    "    \"\"\"\n",
    "    Removes <br /> \n",
    "    \"\"\"\n",
    "    text = re.sub(r'<br\\s*/?>', ' ', text)\n",
    "    return text\n",
    "\n",
    "def process_movie_reviews(directory_path: str) -> pd.DataFrame:\n",
    "    \"\"\"\n",
    "    Traite les fichiers de critiques de films et les combine dans un DataFrame.\n",
    "    Args:\n",
    "        directory_path (str): Chemin vers le répertoire contenant les fichiers texte\n",
    "    Returns:\n",
    "        pd.DataFrame: DataFrame contenant les colonnes id, rate, et comment\n",
    "    \"\"\"\n",
    "\n",
    "    movie_ids = []\n",
    "    rates = []\n",
    "    comments = []\n",
    "    \n",
    "    for filename in os.listdir(directory_path):\n",
    "        if filename.endswith('.txt'):\n",
    "            # id et note du nom du fichier\n",
    "\n",
    "            parts = filename.split('_')\n",
    "            if len(parts) == 2:\n",
    "                movie_id = int(parts[0])\n",
    "                rate = int(parts[1].split('.')[0])\n",
    "                \n",
    "                with open(os.path.join(directory_path, filename), 'r', encoding='utf-8') as f:\n",
    "                    comment = f.read().strip()\n",
    "                    comment = clean_review(comment) \n",
    "                \n",
    "                # Ajouter les données aux listes\n",
    "                movie_ids.append(movie_id)\n",
    "                rates.append(rate)\n",
    "                comments.append(comment)\n",
    "    \n",
    "    df = pd.DataFrame({\n",
    "        'id': movie_ids,\n",
    "        'rate': rates,\n",
    "        'comment': comments\n",
    "    })\n",
    "    \n",
    "    # Trier par id de film\n",
    "    df = df.sort_values('id')\n",
    "    \n",
    "    return df\n",
    "\n",
    "pos_df = process_movie_reviews('aclImdb/train/pos')\n",
    "neg_df = process_movie_reviews('aclImdb/train/neg')\n",
    "\n",
    "#labelling \n",
    "pos_df['sentiment'] = 1\n",
    "neg_df['sentiment'] = 0\n",
    "\n",
    "# Create dataset with positive and negative reviews\n",
    "df_train = pd.concat([pos_df, neg_df], ignore_index=True)\n",
    "df_train = df_train.sample(frac=1, random_state=42).reset_index(drop=True)"
   ]
  },
  {
   "cell_type": "code",
   "execution_count": 10,
   "metadata": {},
   "outputs": [],
   "source": [
    "df_train.to_csv('aclImdb/df_train.csv', index=False)"
   ]
  },
  {
   "cell_type": "code",
   "execution_count": 11,
   "metadata": {},
   "outputs": [],
   "source": [
    "pos_df = process_movie_reviews('aclImdb/test/pos')\n",
    "neg_df = process_movie_reviews('aclImdb/test/neg')\n",
    "\n",
    "#labelling \n",
    "pos_df['sentiment'] = 1\n",
    "neg_df['sentiment'] = 0\n",
    "\n",
    "# Create dataset with positive and negative reviews\n",
    "df_test = pd.concat([pos_df, neg_df], ignore_index=True)\n",
    "df_test = df_test.sample(frac=1, random_state=42).reset_index(drop=True)\n",
    "df_test.to_csv('aclImdb/df_test.csv', index=False)"
   ]
  }
 ],
 "metadata": {
  "kernelspec": {
   "display_name": ".venv",
   "language": "python",
   "name": "python3"
  },
  "language_info": {
   "codemirror_mode": {
    "name": "ipython",
    "version": 3
   },
   "file_extension": ".py",
   "mimetype": "text/x-python",
   "name": "python",
   "nbconvert_exporter": "python",
   "pygments_lexer": "ipython3",
   "version": "3.10.12"
  }
 },
 "nbformat": 4,
 "nbformat_minor": 2
}
